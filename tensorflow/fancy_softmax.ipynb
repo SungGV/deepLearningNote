{
 "cells": [
  {
   "cell_type": "code",
   "execution_count": 14,
   "metadata": {
    "collapsed": true
   },
   "outputs": [],
   "source": [
    "import tensorflow as tf\n",
    "tf.set_random_seed(777)  # for reproducibility\n",
    "import numpy as np"
   ]
  },
  {
   "cell_type": "markdown",
   "metadata": {},
   "source": [
    "# Softmax Cross Entropy Optimizer"
   ]
  },
  {
   "cell_type": "raw",
   "metadata": {},
   "source": [
    "# note\n",
    "# manually computes softmax \n",
    "cost = tf.reduce_mean(-tf.reduce_sum(Y*tf.log(hypothesis), axis=1))\n",
    "\n",
    "# using softmax_cross_entropy_with_logits function \n",
    "cost_i = tf.nn.softmax_cross_entropy_with_logits(logits=logits, labels=Y)"
   ]
  },
  {
   "cell_type": "markdown",
   "metadata": {},
   "source": [
    "# One hot encoding and reshape"
   ]
  },
  {
   "cell_type": "raw",
   "metadata": {},
   "source": [
    "# nb_classes = 7\n",
    "Y = tf.placeholder(tf.int32, [None, 1]) # 0~6, shap(?, 1)\n",
    "Y_one_hot = tf.one_hot(Y, nb_classes) # one hot shape (?,1,7). 차원을 원래 보다 한차원 더 올림\n",
    "Y_one_hot = tf.reshape(Y_one_hot, [-1, nb_classes]) # shape(?,7)"
   ]
  },
  {
   "cell_type": "code",
   "execution_count": 15,
   "metadata": {
    "collapsed": false
   },
   "outputs": [
    {
     "data": {
      "text/plain": [
       "(101, 17)"
      ]
     },
     "execution_count": 15,
     "metadata": {},
     "output_type": "execute_result"
    }
   ],
   "source": [
    "data = np.loadtxt('data-04-zoo.csv', delimiter=',', dtype=np.float32)\n",
    "data.shape"
   ]
  },
  {
   "cell_type": "code",
   "execution_count": 16,
   "metadata": {
    "collapsed": true
   },
   "outputs": [],
   "source": [
    "x_data = data[:,0:-1]\n",
    "y_data = data[:,[-1]]"
   ]
  },
  {
   "cell_type": "code",
   "execution_count": 23,
   "metadata": {
    "collapsed": false
   },
   "outputs": [],
   "source": [
    "nb_classes = 7\n",
    "X = tf.placeholder(tf.float32, [None, 16])\n",
    "Y = tf.placeholder(tf.int32, [None, 1])\n",
    "\n",
    "Y_one_hot = tf.one_hot(Y, nb_classes)\n",
    "Y_one_hot = tf.reshape(Y_one_hot, [-1, nb_classes])\n",
    "\n",
    "W = tf.Variable(tf.random_normal([16, nb_classes]))\n",
    "b = tf.Variable(tf.random_normal([nb_classes]))"
   ]
  },
  {
   "cell_type": "code",
   "execution_count": 24,
   "metadata": {
    "collapsed": true
   },
   "outputs": [],
   "source": [
    "# hypothesis\n",
    "# softmax = exp(z)/ reduce_sum(exp(z), dim)\n",
    "logits = tf.matmul(X,W) + b\n",
    "hypothesis = tf.nn.softmax(logits)"
   ]
  },
  {
   "cell_type": "code",
   "execution_count": 26,
   "metadata": {
    "collapsed": true
   },
   "outputs": [],
   "source": [
    "# corss entropy cost\n",
    "cost_i = tf.nn.softmax_cross_entropy_with_logits(logits= logits,labels=Y_one_hot)\n",
    "cost = tf.reduce_mean(cost_i)\n",
    "optimizer = tf.train.GradientDescentOptimizer(.1).minimize(cost)"
   ]
  },
  {
   "cell_type": "code",
   "execution_count": 28,
   "metadata": {
    "collapsed": true
   },
   "outputs": [],
   "source": [
    "# testing and accuracy\n",
    "prediction = tf.argmax(hypothesis, 1)\n",
    "correct_prediction = tf.equal(prediction, tf.argmax(Y_one_hot,1))\n",
    "accuracy = tf.reduce_mean(tf.cast(correct_prediction, tf.float32))"
   ]
  },
  {
   "cell_type": "code",
   "execution_count": 33,
   "metadata": {
    "collapsed": false
   },
   "outputs": [
    {
     "name": "stdout",
     "output_type": "stream",
     "text": [
      "Step:     0\tLoss: 5.289\tAcc: 21.78%\n",
      "Step:   200\tLoss: 0.414\tAcc: 83.17%\n",
      "Step:   400\tLoss: 0.247\tAcc: 93.07%\n",
      "Step:   600\tLoss: 0.174\tAcc: 96.04%\n",
      "Step:   800\tLoss: 0.134\tAcc: 99.01%\n",
      "Step:  1000\tLoss: 0.109\tAcc: 99.01%\n",
      "Step:  1200\tLoss: 0.092\tAcc: 100.00%\n",
      "Step:  1400\tLoss: 0.079\tAcc: 100.00%\n",
      "Step:  1600\tLoss: 0.070\tAcc: 100.00%\n",
      "Step:  1800\tLoss: 0.062\tAcc: 100.00%\n",
      "Step:  2000\tLoss: 0.056\tAcc: 100.00%\n",
      "\n",
      "\n",
      "[True] Prediction: 0 | Y: 0\n",
      "[True] Prediction: 0 | Y: 0\n",
      "[True] Prediction: 3 | Y: 3\n",
      "[True] Prediction: 0 | Y: 0\n",
      "[True] Prediction: 0 | Y: 0\n",
      "[True] Prediction: 0 | Y: 0\n",
      "[True] Prediction: 0 | Y: 0\n",
      "[True] Prediction: 3 | Y: 3\n",
      "[True] Prediction: 3 | Y: 3\n",
      "[True] Prediction: 0 | Y: 0\n",
      "[True] Prediction: 0 | Y: 0\n",
      "[True] Prediction: 1 | Y: 1\n",
      "[True] Prediction: 3 | Y: 3\n",
      "[True] Prediction: 6 | Y: 6\n",
      "[True] Prediction: 6 | Y: 6\n",
      "[True] Prediction: 6 | Y: 6\n",
      "[True] Prediction: 1 | Y: 1\n",
      "[True] Prediction: 0 | Y: 0\n",
      "[True] Prediction: 3 | Y: 3\n",
      "[True] Prediction: 0 | Y: 0\n",
      "[True] Prediction: 1 | Y: 1\n",
      "[True] Prediction: 1 | Y: 1\n",
      "[True] Prediction: 0 | Y: 0\n",
      "[True] Prediction: 1 | Y: 1\n",
      "[True] Prediction: 5 | Y: 5\n",
      "[True] Prediction: 4 | Y: 4\n",
      "[True] Prediction: 4 | Y: 4\n",
      "[True] Prediction: 0 | Y: 0\n",
      "[True] Prediction: 0 | Y: 0\n",
      "[True] Prediction: 0 | Y: 0\n",
      "[True] Prediction: 5 | Y: 5\n",
      "[True] Prediction: 0 | Y: 0\n",
      "[True] Prediction: 0 | Y: 0\n",
      "[True] Prediction: 1 | Y: 1\n",
      "[True] Prediction: 3 | Y: 3\n",
      "[True] Prediction: 0 | Y: 0\n",
      "[True] Prediction: 0 | Y: 0\n",
      "[True] Prediction: 1 | Y: 1\n",
      "[True] Prediction: 3 | Y: 3\n",
      "[True] Prediction: 5 | Y: 5\n",
      "[True] Prediction: 5 | Y: 5\n",
      "[True] Prediction: 1 | Y: 1\n",
      "[True] Prediction: 5 | Y: 5\n",
      "[True] Prediction: 1 | Y: 1\n",
      "[True] Prediction: 0 | Y: 0\n",
      "[True] Prediction: 0 | Y: 0\n",
      "[True] Prediction: 6 | Y: 6\n",
      "[True] Prediction: 0 | Y: 0\n",
      "[True] Prediction: 0 | Y: 0\n",
      "[True] Prediction: 0 | Y: 0\n",
      "[True] Prediction: 0 | Y: 0\n",
      "[True] Prediction: 5 | Y: 5\n",
      "[True] Prediction: 4 | Y: 4\n",
      "[True] Prediction: 6 | Y: 6\n",
      "[True] Prediction: 0 | Y: 0\n",
      "[True] Prediction: 0 | Y: 0\n",
      "[True] Prediction: 1 | Y: 1\n",
      "[True] Prediction: 1 | Y: 1\n",
      "[True] Prediction: 1 | Y: 1\n",
      "[True] Prediction: 1 | Y: 1\n",
      "[True] Prediction: 3 | Y: 3\n",
      "[True] Prediction: 3 | Y: 3\n",
      "[True] Prediction: 2 | Y: 2\n",
      "[True] Prediction: 0 | Y: 0\n",
      "[True] Prediction: 0 | Y: 0\n",
      "[True] Prediction: 0 | Y: 0\n",
      "[True] Prediction: 0 | Y: 0\n",
      "[True] Prediction: 0 | Y: 0\n",
      "[True] Prediction: 0 | Y: 0\n",
      "[True] Prediction: 0 | Y: 0\n",
      "[True] Prediction: 0 | Y: 0\n",
      "[True] Prediction: 1 | Y: 1\n",
      "[True] Prediction: 6 | Y: 6\n",
      "[True] Prediction: 3 | Y: 3\n",
      "[True] Prediction: 0 | Y: 0\n",
      "[True] Prediction: 0 | Y: 0\n",
      "[True] Prediction: 2 | Y: 2\n",
      "[True] Prediction: 6 | Y: 6\n",
      "[True] Prediction: 1 | Y: 1\n",
      "[True] Prediction: 1 | Y: 1\n",
      "[True] Prediction: 2 | Y: 2\n",
      "[True] Prediction: 6 | Y: 6\n",
      "[True] Prediction: 3 | Y: 3\n",
      "[True] Prediction: 1 | Y: 1\n",
      "[True] Prediction: 0 | Y: 0\n",
      "[True] Prediction: 6 | Y: 6\n",
      "[True] Prediction: 3 | Y: 3\n",
      "[True] Prediction: 1 | Y: 1\n",
      "[True] Prediction: 5 | Y: 5\n",
      "[True] Prediction: 4 | Y: 4\n",
      "[True] Prediction: 2 | Y: 2\n",
      "[True] Prediction: 2 | Y: 2\n",
      "[True] Prediction: 3 | Y: 3\n",
      "[True] Prediction: 0 | Y: 0\n",
      "[True] Prediction: 0 | Y: 0\n",
      "[True] Prediction: 1 | Y: 1\n",
      "[True] Prediction: 0 | Y: 0\n",
      "[True] Prediction: 5 | Y: 5\n",
      "[True] Prediction: 0 | Y: 0\n",
      "[True] Prediction: 6 | Y: 6\n",
      "[True] Prediction: 1 | Y: 1\n"
     ]
    }
   ],
   "source": [
    "with tf.Session() as sess:\n",
    "    sess.run(tf.global_variables_initializer())\n",
    "    \n",
    "    for step in range(2001):\n",
    "        c, a, _ = \\\n",
    "        sess.run([cost, accuracy, optimizer], feed_dict={X:x_data, Y:y_data})\n",
    "        \n",
    "        if step % 200 == 0:\n",
    "            print(\"Step: {:5}\\tLoss: {:.3f}\\tAcc: {:.2%}\".format(\n",
    "                step, c, a))\n",
    "    \n",
    "    print()\n",
    "    print()\n",
    "    pred = sess.run(prediction, feed_dict={X:x_data})\n",
    "        \n",
    "    for p, y in zip(pred, y_data.flatten()):\n",
    "        print(\"[{}] Prediction: {} | Y: {}\".format(p == int(y), p, int(y)))\n",
    "    "
   ]
  },
  {
   "cell_type": "code",
   "execution_count": null,
   "metadata": {
    "collapsed": true
   },
   "outputs": [],
   "source": []
  },
  {
   "cell_type": "code",
   "execution_count": null,
   "metadata": {
    "collapsed": true
   },
   "outputs": [],
   "source": []
  },
  {
   "cell_type": "code",
   "execution_count": null,
   "metadata": {
    "collapsed": true
   },
   "outputs": [],
   "source": []
  }
 ],
 "metadata": {
  "kernelspec": {
   "display_name": "Python 3",
   "language": "python",
   "name": "python3"
  },
  "language_info": {
   "codemirror_mode": {
    "name": "ipython",
    "version": 3
   },
   "file_extension": ".py",
   "mimetype": "text/x-python",
   "name": "python",
   "nbconvert_exporter": "python",
   "pygments_lexer": "ipython3",
   "version": "3.6.0"
  }
 },
 "nbformat": 4,
 "nbformat_minor": 2
}
