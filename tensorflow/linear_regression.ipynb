{
 "cells": [
  {
   "cell_type": "code",
   "execution_count": 1,
   "metadata": {
    "collapsed": true
   },
   "outputs": [],
   "source": [
    "import tensorflow as tf"
   ]
  },
  {
   "cell_type": "code",
   "execution_count": 2,
   "metadata": {
    "collapsed": true
   },
   "outputs": [],
   "source": [
    "tf.set_random_seed(777)"
   ]
  },
  {
   "cell_type": "code",
   "execution_count": 3,
   "metadata": {
    "collapsed": true
   },
   "outputs": [],
   "source": [
    "# X and Y data\n",
    "# x_train = [1,2,3]\n",
    "# y_train = [1,2,3]\n",
    "X = tf.placeholder(tf.float32, shape = [None])\n",
    "Y = tf.placeholder(tf.float32, shape = [None])"
   ]
  },
  {
   "cell_type": "code",
   "execution_count": 4,
   "metadata": {
    "collapsed": true
   },
   "outputs": [],
   "source": [
    "# try to find valaues for w and b to compute y_data = x_data * w + b\n",
    "\n",
    "# Variable -> trainable \n",
    "W = tf.Variable(tf.random_normal([1]), name='weight')\n",
    "b = tf.Variable(tf.random_normal([1]), name='bias')"
   ]
  },
  {
   "cell_type": "code",
   "execution_count": 5,
   "metadata": {
    "collapsed": false
   },
   "outputs": [],
   "source": [
    "c = tf.random_normal([4,3])   # dimention"
   ]
  },
  {
   "cell_type": "code",
   "execution_count": 6,
   "metadata": {
    "collapsed": false
   },
   "outputs": [
    {
     "data": {
      "text/plain": [
       "array([[ 0.93376452, -0.45112884, -0.56874341],\n",
       "       [-0.48966673, -1.30393291, -0.78513855],\n",
       "       [ 0.19922702, -0.12443238, -0.36293381],\n",
       "       [ 0.5557369 , -1.08270359, -0.67749578]], dtype=float32)"
      ]
     },
     "execution_count": 6,
     "metadata": {},
     "output_type": "execute_result"
    }
   ],
   "source": [
    "sess = tf.Session()\n",
    "sess.run(c)"
   ]
  },
  {
   "cell_type": "code",
   "execution_count": 7,
   "metadata": {
    "collapsed": true
   },
   "outputs": [],
   "source": [
    "hypothesis = X * W + b"
   ]
  },
  {
   "cell_type": "code",
   "execution_count": 8,
   "metadata": {
    "collapsed": true
   },
   "outputs": [],
   "source": [
    "# cost/loss function\n",
    "cost = tf.reduce_mean(tf.square(hypothesis - Y))"
   ]
  },
  {
   "cell_type": "code",
   "execution_count": 9,
   "metadata": {
    "collapsed": false
   },
   "outputs": [
    {
     "data": {
      "text/plain": [
       "3.0"
      ]
     },
     "execution_count": 9,
     "metadata": {},
     "output_type": "execute_result"
    }
   ],
   "source": [
    "t = [[1.,2.,3.,4.], [2.,3.,4.,5.]]\n",
    "sess.run(tf.reduce_mean(t))"
   ]
  },
  {
   "cell_type": "code",
   "execution_count": 10,
   "metadata": {
    "collapsed": false
   },
   "outputs": [],
   "source": [
    "# minimize\n",
    "optimizer = tf.train.GradientDescentOptimizer(learning_rate=.01)\n",
    "train = optimizer.minimize(cost)"
   ]
  },
  {
   "cell_type": "code",
   "execution_count": 11,
   "metadata": {
    "collapsed": false
   },
   "outputs": [],
   "source": [
    "# launch the graph in a session\n",
    "sess = tf.Session()\n",
    "sess.run(tf.global_variables_initializer())"
   ]
  },
  {
   "cell_type": "code",
   "execution_count": 12,
   "metadata": {
    "collapsed": false
   },
   "outputs": [
    {
     "name": "stdout",
     "output_type": "stream",
     "text": [
      "0 1.59922 [ 0.88459384] [ 0.4831478]\n",
      "20 0.0472552 [ 1.13940609] [ 0.59203142]\n",
      "40 0.0412407 [ 1.13139307] [ 0.62560815]\n",
      "60 0.0360158 [ 1.12279296] [ 0.65667796]\n",
      "80 0.0314529 [ 1.11475122] [ 0.68571156]\n",
      "100 0.027468 [ 1.10723615] [ 0.71284366]\n",
      "120 0.023988 [ 1.10021317] [ 0.73819876]\n",
      "140 0.020949 [ 1.09365022] [ 0.76189327]\n",
      "160 0.0182949 [ 1.0875169] [ 0.7840361]\n",
      "180 0.0159771 [ 1.08178544] [ 0.80472869]\n",
      "200 0.0139529 [ 1.07642925] [ 0.82406616]\n",
      "220 0.0121852 [ 1.07142389] [ 0.84213716]\n",
      "240 0.0106414 [ 1.06674623] [ 0.85902476]\n",
      "260 0.00929321 [ 1.06237507] [ 0.87480658]\n",
      "280 0.00811585 [ 1.05829] [ 0.88955456]\n",
      "300 0.00708763 [ 1.05447257] [ 0.90333676]\n",
      "320 0.00618968 [ 1.05090499] [ 0.91621643]\n",
      "340 0.00540545 [ 1.04757118] [ 0.92825282]\n",
      "360 0.00472064 [ 1.04445577] [ 0.93950075]\n",
      "380 0.00412256 [ 1.04154432] [ 0.95001197]\n",
      "400 0.00360026 [ 1.03882337] [ 0.95983493]\n",
      "420 0.00314413 [ 1.03628087] [ 0.96901447]\n",
      "440 0.00274579 [ 1.03390491] [ 0.97759277]\n",
      "460 0.00239792 [ 1.03168428] [ 0.98560935]\n",
      "480 0.00209412 [ 1.02960932] [ 0.99310088]\n",
      "500 0.00182881 [ 1.02767015] [ 1.00010192]\n",
      "520 0.00159711 [ 1.02585804] [ 1.00664437]\n",
      "540 0.00139476 [ 1.02416444] [ 1.01275849]\n",
      "560 0.00121805 [ 1.02258193] [ 1.01847219]\n",
      "580 0.00106373 [ 1.02110302] [ 1.02381146]\n",
      "600 0.000928959 [ 1.01972079] [ 1.02880132]\n",
      "620 0.00081127 [ 1.0184294] [ 1.03346407]\n",
      "640 0.000708483 [ 1.0172224] [ 1.03782153]\n",
      "660 0.000618728 [ 1.01609445] [ 1.04189384]\n",
      "680 0.00054034 [ 1.01504052] [ 1.04569912]\n",
      "700 0.000471876 [ 1.01405537] [ 1.04925549]\n",
      "720 0.000412091 [ 1.01313484] [ 1.05257893]\n",
      "740 0.000359884 [ 1.01227474] [ 1.05568445]\n",
      "760 0.000314293 [ 1.01147079] [ 1.05858684]\n",
      "780 0.000274472 [ 1.01071966] [ 1.06129909]\n",
      "800 0.000239698 [ 1.01001751] [ 1.06383348]\n",
      "820 0.000209332 [ 1.00936151] [ 1.06620204]\n",
      "840 0.000182808 [ 1.00874829] [ 1.06841564]\n",
      "860 0.000159645 [ 1.00817525] [ 1.0704844]\n",
      "880 0.000139418 [ 1.00764] [ 1.07241738]\n",
      "900 0.000121755 [ 1.00713956] [ 1.07422388]\n",
      "920 0.000106331 [ 1.00667191] [ 1.075912]\n",
      "940 9.28587e-05 [ 1.006235] [ 1.07748961]\n",
      "960 8.10931e-05 [ 1.00582671] [ 1.07896388]\n",
      "980 7.08165e-05 [ 1.005445] [ 1.08034182]\n",
      "1000 6.18449e-05 [ 1.00508845] [ 1.08162928]\n",
      "1020 5.40093e-05 [ 1.00475514] [ 1.08283246]\n",
      "1040 4.71656e-05 [ 1.00444365] [ 1.08395696]\n",
      "1060 4.11912e-05 [ 1.00415266] [ 1.08500743]\n",
      "1080 3.59722e-05 [ 1.00388074] [ 1.08598924]\n",
      "1100 3.14148e-05 [ 1.00362659] [ 1.08690679]\n",
      "1120 2.74357e-05 [ 1.00338912] [ 1.08776426]\n",
      "1140 2.39583e-05 [ 1.00316715] [ 1.08856559]\n",
      "1160 2.09245e-05 [ 1.00295985] [ 1.0893141]\n",
      "1180 1.82744e-05 [ 1.00276601] [ 1.09001386]\n",
      "1200 1.59594e-05 [ 1.00258482] [ 1.09066784]\n",
      "1220 1.39371e-05 [ 1.00241554] [ 1.09127903]\n",
      "1240 1.21711e-05 [ 1.00225735] [ 1.0918504]\n",
      "1260 1.06293e-05 [ 1.00210953] [ 1.09238398]\n",
      "1280 9.28248e-06 [ 1.00197136] [ 1.09288275]\n",
      "1300 8.1065e-06 [ 1.00184226] [ 1.09334886]\n",
      "1320 7.08016e-06 [ 1.00172162] [ 1.09378433]\n",
      "1340 6.18289e-06 [ 1.00160897] [ 1.09419131]\n",
      "1360 5.39964e-06 [ 1.00150359] [ 1.09457159]\n",
      "1380 4.71621e-06 [ 1.00140524] [ 1.09492683]\n",
      "1400 4.11901e-06 [ 1.00131321] [ 1.09525895]\n",
      "1420 3.59745e-06 [ 1.00122726] [ 1.09556925]\n",
      "1440 3.14142e-06 [ 1.00114679] [ 1.09585941]\n",
      "1460 2.74377e-06 [ 1.00107169] [ 1.09613049]\n",
      "1480 2.3963e-06 [ 1.0010016] [ 1.09638393]\n",
      "1500 2.09255e-06 [ 1.00093591] [ 1.09662068]\n",
      "1520 1.8278e-06 [ 1.00087476] [ 1.09684193]\n",
      "1540 1.59619e-06 [ 1.00081754] [ 1.09704864]\n",
      "1560 1.39402e-06 [ 1.00076401] [ 1.09724176]\n",
      "1580 1.21729e-06 [ 1.00071394] [ 1.09742236]\n",
      "1600 1.06318e-06 [ 1.00066733] [ 1.09759104]\n",
      "1620 9.28703e-07 [ 1.00062358] [ 1.09774876]\n",
      "1640 8.11077e-07 [ 1.0005827] [ 1.0978961]\n",
      "1660 7.08504e-07 [ 1.00054455] [ 1.09803379]\n",
      "1680 6.18789e-07 [ 1.0005089] [ 1.09816241]\n",
      "1700 5.40505e-07 [ 1.00047565] [ 1.09828269]\n",
      "1720 4.71975e-07 [ 1.00044441] [ 1.09839511]\n",
      "1740 4.12236e-07 [ 1.00041544] [ 1.09850013]\n",
      "1760 3.60016e-07 [ 1.00038838] [ 1.09859836]\n",
      "1780 3.14384e-07 [ 1.00036275] [ 1.09869015]\n",
      "1800 2.74653e-07 [ 1.00033903] [ 1.09877574]\n",
      "1820 2.39791e-07 [ 1.00031698] [ 1.09885585]\n",
      "1840 2.09409e-07 [ 1.00029612] [ 1.09893084]\n",
      "1860 1.82869e-07 [ 1.0002768] [ 1.09900069]\n",
      "1880 1.59703e-07 [ 1.00025868] [ 1.09906626]\n",
      "1900 1.39667e-07 [ 1.00024188] [ 1.09912705]\n",
      "1920 1.21932e-07 [ 1.00022602] [ 1.09918416]\n",
      "1940 1.06574e-07 [ 1.00021136] [ 1.09923756]\n",
      "1960 9.30175e-08 [ 1.00019729] [ 1.09928727]\n",
      "1980 8.12308e-08 [ 1.00018454] [ 1.09933388]\n",
      "2000 7.10268e-08 [ 1.0001725] [ 1.09937739]\n"
     ]
    }
   ],
   "source": [
    "# fit the line\n",
    "for step in range(2001):\n",
    "    cost_val, W_val, b_val, _ = \\\n",
    "    sess.run([cost, W, b, train], feed_dict = {X:[1,2,3,4,5], Y : [2.1,3.1,4.1, 5.1, 6.1]})\n",
    "    \n",
    "    if step % 20 == 0:\n",
    "        print(step, cost_val, W_val, b_val)"
   ]
  },
  {
   "cell_type": "code",
   "execution_count": 14,
   "metadata": {
    "collapsed": false
   },
   "outputs": [
    {
     "data": {
      "text/plain": [
       "array([ 6.10023975], dtype=float32)"
      ]
     },
     "execution_count": 14,
     "metadata": {},
     "output_type": "execute_result"
    }
   ],
   "source": [
    "# testing our model\n",
    "sess.run(hypothesis, feed_dict={X:[5]})"
   ]
  },
  {
   "cell_type": "code",
   "execution_count": 15,
   "metadata": {
    "collapsed": false
   },
   "outputs": [
    {
     "data": {
      "text/plain": [
       "array([ 3.59980869], dtype=float32)"
      ]
     },
     "execution_count": 15,
     "metadata": {},
     "output_type": "execute_result"
    }
   ],
   "source": [
    "sess.run(hypothesis, feed_dict={X:[2.5]})"
   ]
  },
  {
   "cell_type": "code",
   "execution_count": 16,
   "metadata": {
    "collapsed": false
   },
   "outputs": [
    {
     "data": {
      "text/plain": [
       "array([ 2.59963608,  4.59998131], dtype=float32)"
      ]
     },
     "execution_count": 16,
     "metadata": {},
     "output_type": "execute_result"
    }
   ],
   "source": [
    "sess.run(hypothesis, feed_dict={X:[1.5, 3.5]})"
   ]
  },
  {
   "cell_type": "code",
   "execution_count": null,
   "metadata": {
    "collapsed": true
   },
   "outputs": [],
   "source": []
  }
 ],
 "metadata": {
  "kernelspec": {
   "display_name": "Python 3",
   "language": "python",
   "name": "python3"
  },
  "language_info": {
   "codemirror_mode": {
    "name": "ipython",
    "version": 3
   },
   "file_extension": ".py",
   "mimetype": "text/x-python",
   "name": "python",
   "nbconvert_exporter": "python",
   "pygments_lexer": "ipython3",
   "version": "3.6.0"
  }
 },
 "nbformat": 4,
 "nbformat_minor": 2
}
