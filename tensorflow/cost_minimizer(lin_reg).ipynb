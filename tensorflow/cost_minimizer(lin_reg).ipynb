{
 "cells": [
  {
   "cell_type": "code",
   "execution_count": 41,
   "metadata": {
    "collapsed": false
   },
   "outputs": [],
   "source": [
    "import tensorflow as tf\n",
    "import matplotlib.pyplot as plt\n",
    "%matplotlib inline\n",
    "tf.set_random_seed(777)"
   ]
  },
  {
   "cell_type": "code",
   "execution_count": 42,
   "metadata": {
    "collapsed": false
   },
   "outputs": [],
   "source": [
    "X_data = [1,2,3]\n",
    "Y_data = [1,2,3]\n",
    "\n",
    "W = tf.Variable(tf.random_normal([1]), name='weight')\n",
    "X = tf.placeholder(tf.float32)\n",
    "Y = tf.placeholder(tf.float32)"
   ]
  },
  {
   "cell_type": "code",
   "execution_count": 43,
   "metadata": {
    "collapsed": false
   },
   "outputs": [],
   "source": [
    "hypothesis = X * W"
   ]
  },
  {
   "cell_type": "code",
   "execution_count": 44,
   "metadata": {
    "collapsed": false
   },
   "outputs": [],
   "source": [
    "cost = tf.reduce_mean(tf.square(hypothesis - Y))"
   ]
  },
  {
   "cell_type": "code",
   "execution_count": 45,
   "metadata": {
    "collapsed": false
   },
   "outputs": [],
   "source": [
    "# minimize: tradient Descent using derivative:\n",
    "# W -= learning_rage * derivatitve\n",
    "learning_rate = .01\n",
    "gradient = tf.reduce_mean((W*X - Y) * X)\n",
    "decent = W - learning_rate * gradient\n",
    "update = W.assign(decent)"
   ]
  },
  {
   "cell_type": "code",
   "execution_count": 46,
   "metadata": {
    "collapsed": true
   },
   "outputs": [],
   "source": [
    "sess = tf.Session()"
   ]
  },
  {
   "cell_type": "code",
   "execution_count": 47,
   "metadata": {
    "collapsed": true
   },
   "outputs": [],
   "source": [
    "sess.run(tf.global_variables_initializer())"
   ]
  },
  {
   "cell_type": "code",
   "execution_count": 48,
   "metadata": {
    "collapsed": false
   },
   "outputs": [
    {
     "name": "stdout",
     "output_type": "stream",
     "text": [
      "0 0.155506 [ 1.18254495]\n",
      "1 0.14133 [ 1.17402613]\n",
      "2 0.128447 [ 1.16590488]\n",
      "3 0.116739 [ 1.15816259]\n",
      "4 0.106097 [ 1.15078163]\n",
      "5 0.0964258 [ 1.14374518]\n",
      "6 0.087636 [ 1.13703704]\n",
      "7 0.0796475 [ 1.13064194]\n",
      "8 0.0723872 [ 1.12454534]\n",
      "9 0.0657886 [ 1.11873317]\n",
      "10 0.0597917 [ 1.11319232]\n",
      "11 0.0543413 [ 1.10791004]\n",
      "12 0.0493879 [ 1.10287428]\n",
      "13 0.0448859 [ 1.09807348]\n",
      "14 0.0407942 [ 1.09349668]\n",
      "15 0.0370756 [ 1.0891335]\n",
      "16 0.033696 [ 1.08497393]\n",
      "17 0.0306244 [ 1.08100843]\n",
      "18 0.0278328 [ 1.07722807]\n",
      "19 0.0252957 [ 1.07362413]\n",
      "20 0.0229898 [ 1.07018828]\n"
     ]
    }
   ],
   "source": [
    "\n",
    "for step in range(21):\n",
    "    sess.run(update, feed_dict={X: X_data, Y: Y_data})\n",
    "    print(step, sess.run(cost, feed_dict={X: X_data, Y: Y_data}), sess.run(W))"
   ]
  },
  {
   "cell_type": "code",
   "execution_count": null,
   "metadata": {
    "collapsed": true
   },
   "outputs": [],
   "source": []
  },
  {
   "cell_type": "code",
   "execution_count": null,
   "metadata": {
    "collapsed": true
   },
   "outputs": [],
   "source": []
  },
  {
   "cell_type": "code",
   "execution_count": null,
   "metadata": {
    "collapsed": true
   },
   "outputs": [],
   "source": []
  }
 ],
 "metadata": {
  "kernelspec": {
   "display_name": "Python 3",
   "language": "python",
   "name": "python3"
  },
  "language_info": {
   "codemirror_mode": {
    "name": "ipython",
    "version": 3
   },
   "file_extension": ".py",
   "mimetype": "text/x-python",
   "name": "python",
   "nbconvert_exporter": "python",
   "pygments_lexer": "ipython3",
   "version": "3.6.0"
  }
 },
 "nbformat": 4,
 "nbformat_minor": 2
}
